{
 "cells": [
  {
   "cell_type": "markdown",
   "metadata": {},
   "source": [
    "This is a compulation of 2685 religious texts cited by ISIS over a 3 year period\n",
    "\n",
    "\n",
    "\n",
    "\n"
   ]
  },
  {
   "cell_type": "markdown",
   "metadata": {},
   "source": [
    "Religious texts play a vital role ISIS ideology,propaganda,and recruitment.\n",
    "\n",
    "This dataset is a compilation of all the religious  and ideoligical texts(muslims,christian,jewish,and other)\n",
    "\n",
    "used in ISIS English-based magazines"
   ]
  },
  {
   "cell_type": "markdown",
   "metadata": {},
   "source": [
    "INSPIRATION\n",
    "\n",
    "We would like this data to be analysed by religious clerics to develop rebuttals of ISIS propaganda,\n",
    "\n",
    "data scientists to generate insights from the texts,\n",
    "\n",
    "and policymakers to understand how faith can shape countering violent extremeism efforts.We also need help\n",
    "\n",
    "classifying some of the data that could nit be identified and has been marked unknown"
   ]
  },
  {
   "cell_type": "code",
   "execution_count": 1,
   "metadata": {},
   "outputs": [],
   "source": [
    "import numpy as np\n",
    "import pandas as pd\n",
    "import seaborn as sns\n",
    "import matplotlib.pyplot as plt\n",
    "import nltk\n",
    "from sklearn.feature_extraction.text import CountVectorizer\n",
    "from sklearn.feature_extraction.text import TfidfVectorizer\n",
    "from sklearn.preprocessing import LabelBinarizer\n",
    "from nltk.corpus import stopwords\n",
    "from nltk.stem.porter import PorterStemmer\n",
    "\n",
    "from nltk.stem import WordNetLemmatizer\n",
    "from nltk.tokenize import word_tokenize,sent_tokenize\n",
    "from bs4 import BeautifulSoup\n",
    "import re,string,unicodedata\n",
    "from nltk.tokenize.toktok import ToktokTokenizer\n",
    "from nltk.stem import LancasterStemmer,WordNetLemmatizer\n",
    "from sklearn.linear_model import LogisticRegression,SGDClassifier\n",
    "from sklearn.naive_bayes import MultinomialNB\n",
    "from sklearn.svm import SVC\n",
    "from sklearn.metrics import classification_report,confusion_matrix,accuracy_score\n",
    "from sklearn.model_selection import train_test_split\n",
    "from string import punctuation\n",
    "from nltk import pos_tag\n",
    "from nltk.corpus import wordnet"
   ]
  },
  {
   "cell_type": "code",
   "execution_count": null,
   "metadata": {},
   "outputs": [],
   "source": []
  },
  {
   "cell_type": "code",
   "execution_count": 48,
   "metadata": {},
   "outputs": [
    {
     "data": {
      "text/html": [
       "<div>\n",
       "<style scoped>\n",
       "    .dataframe tbody tr th:only-of-type {\n",
       "        vertical-align: middle;\n",
       "    }\n",
       "\n",
       "    .dataframe tbody tr th {\n",
       "        vertical-align: top;\n",
       "    }\n",
       "\n",
       "    .dataframe thead th {\n",
       "        text-align: right;\n",
       "    }\n",
       "</style>\n",
       "<table border=\"1\" class=\"dataframe\">\n",
       "  <thead>\n",
       "    <tr style=\"text-align: right;\">\n",
       "      <th></th>\n",
       "      <th>Magazine</th>\n",
       "      <th>Issue</th>\n",
       "      <th>Date</th>\n",
       "      <th>Type</th>\n",
       "      <th>Source</th>\n",
       "      <th>Quote</th>\n",
       "      <th>Purpose</th>\n",
       "      <th>Article Name</th>\n",
       "    </tr>\n",
       "  </thead>\n",
       "  <tbody>\n",
       "    <tr>\n",
       "      <th>0</th>\n",
       "      <td>Dabiq</td>\n",
       "      <td>1.0</td>\n",
       "      <td>Jun-14</td>\n",
       "      <td>Jihadist</td>\n",
       "      <td>Abu Mus'ab az-Zarqawi</td>\n",
       "      <td>The spark has been lit here in Iraq, and its h...</td>\n",
       "      <td>Support</td>\n",
       "      <td>First Page</td>\n",
       "    </tr>\n",
       "    <tr>\n",
       "      <th>1</th>\n",
       "      <td>Dabiq</td>\n",
       "      <td>1.0</td>\n",
       "      <td>Jun-14</td>\n",
       "      <td>Hadith</td>\n",
       "      <td>Sahih Muslim</td>\n",
       "      <td>The Hour will not be established until the Ro...</td>\n",
       "      <td>Support</td>\n",
       "      <td>Introduction</td>\n",
       "    </tr>\n",
       "    <tr>\n",
       "      <th>2</th>\n",
       "      <td>Dabiq</td>\n",
       "      <td>1.0</td>\n",
       "      <td>Jun-14</td>\n",
       "      <td>Jihadist</td>\n",
       "      <td>Abu Mus'ab az-Zarqawi</td>\n",
       "      <td>The spark has been lit here in Iraq, and its ...</td>\n",
       "      <td>Support</td>\n",
       "      <td>Introduction</td>\n",
       "    </tr>\n",
       "    <tr>\n",
       "      <th>3</th>\n",
       "      <td>Dabiq</td>\n",
       "      <td>1.0</td>\n",
       "      <td>Jun-14</td>\n",
       "      <td>Jihadist</td>\n",
       "      <td>Abu Bakr al-Baghdadi</td>\n",
       "      <td>O Muslims everywhere, glad tidings to you and...</td>\n",
       "      <td>Support</td>\n",
       "      <td>Khilafah Declared</td>\n",
       "    </tr>\n",
       "    <tr>\n",
       "      <th>4</th>\n",
       "      <td>Dabiq</td>\n",
       "      <td>1.0</td>\n",
       "      <td>Jun-14</td>\n",
       "      <td>Jihadist</td>\n",
       "      <td>Abu Bakr al-Baghdadi</td>\n",
       "      <td>O Ummah of Islam, indeed the world today has ...</td>\n",
       "      <td>Support</td>\n",
       "      <td>The World has Divided into Two Camps</td>\n",
       "    </tr>\n",
       "  </tbody>\n",
       "</table>\n",
       "</div>"
      ],
      "text/plain": [
       "  Magazine  Issue    Date      Type                 Source  \\\n",
       "0    Dabiq    1.0  Jun-14  Jihadist  Abu Mus'ab az-Zarqawi   \n",
       "1    Dabiq    1.0  Jun-14    Hadith           Sahih Muslim   \n",
       "2    Dabiq    1.0  Jun-14  Jihadist  Abu Mus'ab az-Zarqawi   \n",
       "3    Dabiq    1.0  Jun-14  Jihadist   Abu Bakr al-Baghdadi   \n",
       "4    Dabiq    1.0  Jun-14  Jihadist   Abu Bakr al-Baghdadi   \n",
       "\n",
       "                                               Quote  Purpose  \\\n",
       "0  The spark has been lit here in Iraq, and its h...  Support   \n",
       "1  The Hour will not be established until the Ro...  Support   \n",
       "2  The spark has been lit here in Iraq, and its ...  Support   \n",
       "3  O Muslims everywhere, glad tidings to you and...  Support   \n",
       "4  O Ummah of Islam, indeed the world today has ...  Support   \n",
       "\n",
       "                           Article Name  \n",
       "0                            First Page  \n",
       "1                          Introduction  \n",
       "2                          Introduction  \n",
       "3                     Khilafah Declared  \n",
       "4  The World has Divided into Two Camps  "
      ]
     },
     "execution_count": 48,
     "metadata": {},
     "output_type": "execute_result"
    }
   ],
   "source": [
    "df = pd.read_csv('isis.csv',delimiter = ',', encoding = 'latin-1')\n",
    "df.head()"
   ]
  },
  {
   "cell_type": "code",
   "execution_count": 49,
   "metadata": {},
   "outputs": [
    {
     "data": {
      "text/plain": [
       "(2685, 8)"
      ]
     },
     "execution_count": 49,
     "metadata": {},
     "output_type": "execute_result"
    }
   ],
   "source": [
    "df.shape"
   ]
  },
  {
   "cell_type": "code",
   "execution_count": 50,
   "metadata": {},
   "outputs": [
    {
     "data": {
      "text/plain": [
       "Index(['Magazine', 'Issue', 'Date', 'Type', 'Source', 'Quote', 'Purpose',\n",
       "       'Article Name'],\n",
       "      dtype='object')"
      ]
     },
     "execution_count": 50,
     "metadata": {},
     "output_type": "execute_result"
    }
   ],
   "source": [
    "df.columns"
   ]
  },
  {
   "cell_type": "code",
   "execution_count": 51,
   "metadata": {},
   "outputs": [
    {
     "data": {
      "text/plain": [
       "Magazine           1\n",
       "Issue              1\n",
       "Date               1\n",
       "Type               1\n",
       "Source             5\n",
       "Quote              1\n",
       "Purpose         1851\n",
       "Article Name      37\n",
       "dtype: int64"
      ]
     },
     "execution_count": 51,
     "metadata": {},
     "output_type": "execute_result"
    }
   ],
   "source": [
    "df.isnull().sum()"
   ]
  },
  {
   "cell_type": "code",
   "execution_count": 52,
   "metadata": {},
   "outputs": [
    {
     "data": {
      "text/html": [
       "<div>\n",
       "<style scoped>\n",
       "    .dataframe tbody tr th:only-of-type {\n",
       "        vertical-align: middle;\n",
       "    }\n",
       "\n",
       "    .dataframe tbody tr th {\n",
       "        vertical-align: top;\n",
       "    }\n",
       "\n",
       "    .dataframe thead th {\n",
       "        text-align: right;\n",
       "    }\n",
       "</style>\n",
       "<table border=\"1\" class=\"dataframe\">\n",
       "  <thead>\n",
       "    <tr style=\"text-align: right;\">\n",
       "      <th></th>\n",
       "      <th>Magazine</th>\n",
       "      <th>Issue</th>\n",
       "      <th>Date</th>\n",
       "      <th>Type</th>\n",
       "      <th>Source</th>\n",
       "      <th>Quote</th>\n",
       "      <th>Purpose</th>\n",
       "      <th>Article Name</th>\n",
       "    </tr>\n",
       "  </thead>\n",
       "  <tbody>\n",
       "    <tr>\n",
       "      <th>0</th>\n",
       "      <td>Dabiq</td>\n",
       "      <td>1.0</td>\n",
       "      <td>Jun-14</td>\n",
       "      <td>Jihadist</td>\n",
       "      <td>Abu Mus'ab az-Zarqawi</td>\n",
       "      <td>The spark has been lit here in Iraq, and its h...</td>\n",
       "      <td>Support</td>\n",
       "      <td>First Page</td>\n",
       "    </tr>\n",
       "    <tr>\n",
       "      <th>1</th>\n",
       "      <td>Dabiq</td>\n",
       "      <td>1.0</td>\n",
       "      <td>Jun-14</td>\n",
       "      <td>Hadith</td>\n",
       "      <td>Sahih Muslim</td>\n",
       "      <td>The Hour will not be established until the Ro...</td>\n",
       "      <td>Support</td>\n",
       "      <td>Introduction</td>\n",
       "    </tr>\n",
       "    <tr>\n",
       "      <th>2</th>\n",
       "      <td>Dabiq</td>\n",
       "      <td>1.0</td>\n",
       "      <td>Jun-14</td>\n",
       "      <td>Jihadist</td>\n",
       "      <td>Abu Mus'ab az-Zarqawi</td>\n",
       "      <td>The spark has been lit here in Iraq, and its ...</td>\n",
       "      <td>Support</td>\n",
       "      <td>Introduction</td>\n",
       "    </tr>\n",
       "    <tr>\n",
       "      <th>3</th>\n",
       "      <td>Dabiq</td>\n",
       "      <td>1.0</td>\n",
       "      <td>Jun-14</td>\n",
       "      <td>Jihadist</td>\n",
       "      <td>Abu Bakr al-Baghdadi</td>\n",
       "      <td>O Muslims everywhere, glad tidings to you and...</td>\n",
       "      <td>Support</td>\n",
       "      <td>Khilafah Declared</td>\n",
       "    </tr>\n",
       "    <tr>\n",
       "      <th>4</th>\n",
       "      <td>Dabiq</td>\n",
       "      <td>1.0</td>\n",
       "      <td>Jun-14</td>\n",
       "      <td>Jihadist</td>\n",
       "      <td>Abu Bakr al-Baghdadi</td>\n",
       "      <td>O Ummah of Islam, indeed the world today has ...</td>\n",
       "      <td>Support</td>\n",
       "      <td>The World has Divided into Two Camps</td>\n",
       "    </tr>\n",
       "  </tbody>\n",
       "</table>\n",
       "</div>"
      ],
      "text/plain": [
       "  Magazine  Issue    Date      Type                 Source  \\\n",
       "0    Dabiq    1.0  Jun-14  Jihadist  Abu Mus'ab az-Zarqawi   \n",
       "1    Dabiq    1.0  Jun-14    Hadith           Sahih Muslim   \n",
       "2    Dabiq    1.0  Jun-14  Jihadist  Abu Mus'ab az-Zarqawi   \n",
       "3    Dabiq    1.0  Jun-14  Jihadist   Abu Bakr al-Baghdadi   \n",
       "4    Dabiq    1.0  Jun-14  Jihadist   Abu Bakr al-Baghdadi   \n",
       "\n",
       "                                               Quote  Purpose  \\\n",
       "0  The spark has been lit here in Iraq, and its h...  Support   \n",
       "1  The Hour will not be established until the Ro...  Support   \n",
       "2  The spark has been lit here in Iraq, and its ...  Support   \n",
       "3  O Muslims everywhere, glad tidings to you and...  Support   \n",
       "4  O Ummah of Islam, indeed the world today has ...  Support   \n",
       "\n",
       "                           Article Name  \n",
       "0                            First Page  \n",
       "1                          Introduction  \n",
       "2                          Introduction  \n",
       "3                     Khilafah Declared  \n",
       "4  The World has Divided into Two Camps  "
      ]
     },
     "execution_count": 52,
     "metadata": {},
     "output_type": "execute_result"
    }
   ],
   "source": [
    "df1 = df.dropna()\n",
    "df1.head()"
   ]
  },
  {
   "cell_type": "code",
   "execution_count": 53,
   "metadata": {},
   "outputs": [
    {
     "data": {
      "text/html": [
       "<div>\n",
       "<style scoped>\n",
       "    .dataframe tbody tr th:only-of-type {\n",
       "        vertical-align: middle;\n",
       "    }\n",
       "\n",
       "    .dataframe tbody tr th {\n",
       "        vertical-align: top;\n",
       "    }\n",
       "\n",
       "    .dataframe thead th {\n",
       "        text-align: right;\n",
       "    }\n",
       "</style>\n",
       "<table border=\"1\" class=\"dataframe\">\n",
       "  <thead>\n",
       "    <tr style=\"text-align: right;\">\n",
       "      <th></th>\n",
       "      <th>Magazine</th>\n",
       "      <th>Issue</th>\n",
       "      <th>Date</th>\n",
       "      <th>Type</th>\n",
       "      <th>Source</th>\n",
       "      <th>Quote</th>\n",
       "      <th>Purpose</th>\n",
       "      <th>Article Name</th>\n",
       "    </tr>\n",
       "  </thead>\n",
       "  <tbody>\n",
       "    <tr>\n",
       "      <th>2405</th>\n",
       "      <td>Dabiq</td>\n",
       "      <td>8.0</td>\n",
       "      <td>Mar-15</td>\n",
       "      <td>Classical Islamic Scholar</td>\n",
       "      <td>al-Barbahari, \"Sharh as-Sunnah\"</td>\n",
       "      <td>Al-Barbah?r? (rahimahull?h  d. 329AH) said, ...</td>\n",
       "      <td>Support</td>\n",
       "      <td>Irja -The Most Dangerous Bid'ah</td>\n",
       "    </tr>\n",
       "    <tr>\n",
       "      <th>2408</th>\n",
       "      <td>Dabiq</td>\n",
       "      <td>8.0</td>\n",
       "      <td>Mar-15</td>\n",
       "      <td>Unknown</td>\n",
       "      <td>Sharh Sah?h Muslim</td>\n",
       "      <td>Ibn Rajab (rahimahull?h) said, What is meant ...</td>\n",
       "      <td>Support</td>\n",
       "      <td>Irja -The Most Dangerous Bid'ah</td>\n",
       "    </tr>\n",
       "    <tr>\n",
       "      <th>2535</th>\n",
       "      <td>Dabiq</td>\n",
       "      <td>9.0</td>\n",
       "      <td>May-15</td>\n",
       "      <td>Hadith</td>\n",
       "      <td>Sunan Sa-id Ibn Mansur</td>\n",
       "      <td>Ab? Hurayrah (radiyall?hu anhu) said, A day ...</td>\n",
       "      <td>Support</td>\n",
       "      <td>The Virutes of Ribat for the Cause of Allah</td>\n",
       "    </tr>\n",
       "    <tr>\n",
       "      <th>2537</th>\n",
       "      <td>Dabiq</td>\n",
       "      <td>9.0</td>\n",
       "      <td>May-15</td>\n",
       "      <td>Hadith</td>\n",
       "      <td>Sunan Sa-id Ibn Mansur</td>\n",
       "      <td>Abdur-Rahm?n Ibn Jubayr Ibn Nufayr reported th...</td>\n",
       "      <td>Support</td>\n",
       "      <td>Slave-Girls or Prostitutes?</td>\n",
       "    </tr>\n",
       "    <tr>\n",
       "      <th>2622</th>\n",
       "      <td>Dabiq</td>\n",
       "      <td>8.0</td>\n",
       "      <td>Mar-15</td>\n",
       "      <td>Unknown</td>\n",
       "      <td>Taysir al-Aziz al-Hamid</td>\n",
       "      <td>Sulaym?n ?l ash-Shaykh (rahimahull?h) said, S...</td>\n",
       "      <td>Support</td>\n",
       "      <td>Irja -The Most Dangerous Bid'ah</td>\n",
       "    </tr>\n",
       "  </tbody>\n",
       "</table>\n",
       "</div>"
      ],
      "text/plain": [
       "     Magazine  Issue    Date                       Type  \\\n",
       "2405    Dabiq    8.0  Mar-15  Classical Islamic Scholar   \n",
       "2408    Dabiq    8.0  Mar-15                    Unknown   \n",
       "2535    Dabiq    9.0  May-15                     Hadith   \n",
       "2537    Dabiq    9.0  May-15                     Hadith   \n",
       "2622    Dabiq    8.0  Mar-15                    Unknown   \n",
       "\n",
       "                               Source  \\\n",
       "2405  al-Barbahari, \"Sharh as-Sunnah\"   \n",
       "2408               Sharh Sah?h Muslim   \n",
       "2535           Sunan Sa-id Ibn Mansur   \n",
       "2537           Sunan Sa-id Ibn Mansur   \n",
       "2622          Taysir al-Aziz al-Hamid   \n",
       "\n",
       "                                                  Quote  Purpose  \\\n",
       "2405  Al-Barbah?r? (rahimahull?h  d. 329AH) said, ...  Support   \n",
       "2408  Ibn Rajab (rahimahull?h) said, What is meant ...  Support   \n",
       "2535  Ab? Hurayrah (radiyall?hu anhu) said, A day ...  Support   \n",
       "2537  Abdur-Rahm?n Ibn Jubayr Ibn Nufayr reported th...  Support   \n",
       "2622  Sulaym?n ?l ash-Shaykh (rahimahull?h) said, S...  Support   \n",
       "\n",
       "                                     Article Name  \n",
       "2405              Irja -The Most Dangerous Bid'ah  \n",
       "2408              Irja -The Most Dangerous Bid'ah  \n",
       "2535  The Virutes of Ribat for the Cause of Allah  \n",
       "2537                  Slave-Girls or Prostitutes?  \n",
       "2622              Irja -The Most Dangerous Bid'ah  "
      ]
     },
     "execution_count": 53,
     "metadata": {},
     "output_type": "execute_result"
    }
   ],
   "source": [
    "df1.tail()"
   ]
  },
  {
   "cell_type": "code",
   "execution_count": 54,
   "metadata": {},
   "outputs": [
    {
     "data": {
      "text/plain": [
       "Magazine          1\n",
       "Issue            10\n",
       "Date             10\n",
       "Type             15\n",
       "Source          448\n",
       "Quote           814\n",
       "Purpose           3\n",
       "Article Name     89\n",
       "dtype: int64"
      ]
     },
     "execution_count": 54,
     "metadata": {},
     "output_type": "execute_result"
    }
   ],
   "source": [
    "df1.nunique()"
   ]
  },
  {
   "cell_type": "code",
   "execution_count": 55,
   "metadata": {},
   "outputs": [
    {
     "name": "stdout",
     "output_type": "stream",
     "text": [
      "Support    780\n",
      "Refute      45\n",
      "Suport       1\n",
      "Name: Purpose, dtype: int64\n"
     ]
    }
   ],
   "source": [
    "#so from the value count we could see that,purpose consists of number of people that supports the movement and \n",
    "\n",
    "#those that refused\n",
    "\n",
    "print(df1.Purpose.value_counts())\n"
   ]
  },
  {
   "cell_type": "code",
   "execution_count": 56,
   "metadata": {},
   "outputs": [
    {
     "data": {
      "text/plain": [
       "array(['Jihadist', 'Hadith', \"Qur'an\", 'Tafsir',\n",
       "       'Media, Politician, or Analyst', 'Classical Scholar',\n",
       "       'Hadith Commentary', 'Hadith ', 'Sira', 'Unknown', 'Fatwa',\n",
       "       'Salaf', 'Muslim Historical Figure', 'Fiqh',\n",
       "       'Classical Islamic Scholar'], dtype=object)"
      ]
     },
     "execution_count": 56,
     "metadata": {},
     "output_type": "execute_result"
    }
   ],
   "source": [
    "df1.Type.unique()"
   ]
  },
  {
   "cell_type": "code",
   "execution_count": 57,
   "metadata": {},
   "outputs": [
    {
     "data": {
      "text/plain": [
       "Qur'an                           293\n",
       "Hadith                           250\n",
       "Jihadist                          81\n",
       "Classical Scholar                 69\n",
       "Media, Politician, or Analyst     42\n",
       "Unknown                           31\n",
       "Tafsir                            26\n",
       "Hadith Commentary                 10\n",
       "Fatwa                              6\n",
       "Fiqh                               5\n",
       "Sira                               4\n",
       "Salaf                              4\n",
       "Muslim Historical Figure           3\n",
       "Classical Islamic Scholar          1\n",
       "Hadith                             1\n",
       "Name: Type, dtype: int64"
      ]
     },
     "execution_count": 57,
     "metadata": {},
     "output_type": "execute_result"
    }
   ],
   "source": [
    "df1.Type.value_counts()"
   ]
  },
  {
   "cell_type": "code",
   "execution_count": 58,
   "metadata": {},
   "outputs": [
    {
     "data": {
      "text/plain": [
       "Dabiq      1481\n",
       "Rumiyah    1203\n",
       "Name: Magazine, dtype: int64"
      ]
     },
     "execution_count": 58,
     "metadata": {},
     "output_type": "execute_result"
    }
   ],
   "source": [
    "#the value cunts for the magazine\n",
    "df.Magazine.value_counts()"
   ]
  },
  {
   "cell_type": "code",
   "execution_count": 59,
   "metadata": {},
   "outputs": [
    {
     "data": {
      "text/plain": [
       "448"
      ]
     },
     "execution_count": 59,
     "metadata": {},
     "output_type": "execute_result"
    }
   ],
   "source": [
    "len(pd.unique(df1.Source))"
   ]
  },
  {
   "cell_type": "code",
   "execution_count": 60,
   "metadata": {},
   "outputs": [
    {
     "data": {
      "text/plain": [
       "array([\"Abu Mus'ab az-Zarqawi\", 'Sahih Muslim', 'Abu Bakr al-Baghdadi',\n",
       "       'Al-Hakim', 'an-Nahl 94', 'No Source Given', 'Sahih Bukhari',\n",
       "       'Bukhari, Muslim', 'Baqarah 124', 'Al-Qurtubi',\n",
       "       'Tafsir Ibn Kathir', 'Baqarah 130', 'Sunan ad-Darim',\n",
       "       'Ahmad, at-Tirmidhi', 'Douglas A. Ollivant, Brian Fishman',\n",
       "       'Ahmad', 'Abu \\x91Amr ad-Dani, \"As-Sunan ul Waridatu fil-Fitan\"',\n",
       "       \"Ahmad, An-Nasa'i\", 'Imam Shafi', 'at-Taqbah 15', 'Hud 25-26',\n",
       "       'Nuh 25', 'Hud 38-39', 'al-Ankabut 15', 'al-Qamar 15', 'al-Ashur',\n",
       "       'Hud 37', 'Bukhari & Muslim',\n",
       "       'Ibn Hajar al-Asqalani, \"Fath ul-Bari\"', 'Musnad Ahmad',\n",
       "       'Abu Muhammad al-Adnani', 'al-Imran 59-61', 'Maryam 75',\n",
       "       'Tafsir Ibn Kathir/Quran', \"Mukhtasar as-Sawa'iq al- Mursalah\",\n",
       "       'Ibn al-Qayyim, \"Zad al-Ma\\'ad\"',\n",
       "       'Mashhur al-Salman, \"Al-Qawl al-Mubni\"', 'Tafsir at-Tabari',\n",
       "       'Ibn Qasim an-Najdi', 'Ahmad, Ibn Hibban',\n",
       "       'Ahmad, Ibn Hibban, al-Hakim', 'Ab? \\x91Abdill?h ash-Shami',\n",
       "       'At-Tibyan fi Aqsam al-Quran', 'al-Qamar 1-6',\n",
       "       'Ahman, at-Tirmidhi', 'Igh?thatul-Lahf?n - Ibnul-Qayyim',\n",
       "       'Unknown', 'John McCain', 'Ahmad, ad-Darimi, Ibn Majah',\n",
       "       'Kifayatul-Hajah', \"Ma'ani al-Akhbar\", 'Madarijus-Salikin',\n",
       "       'Ahmad, Abu Dawud, al-Hakim', 'al-Bazzar', \"Ithaful-Jama'ah\",\n",
       "       'Ibn Taymiyyah, \"Majmu ul-Fatawa\"', 'at-Tawbah 143',\n",
       "       \"Al-Hakim, Abu Nu'aym\", 'al-Baqarah 208', 'as-Saff 2-3',\n",
       "       'at-Tawbah 75-77', 'al-Baqarah 246', 'al-Baqarah 71', 'Ibn Rajab',\n",
       "       'al-Ahzab 20', 'at-Tawbah 46-47', 'Madarij as-Salikin',\n",
       "       'Abu Dujanah al-Khurasani', 'at-Tirmidhi', 'al-Hakim',\n",
       "       'ibn \\x91Abdil-Barr', 'Imam Ahmad', 'al-Anfal 24',\n",
       "       'Al-Furusiyyah - Ibn al-Qayyim', 'Abu Dawud, at-Tirmidhi',\n",
       "       'Ibnul-Qayyim', 'Barak Obama', 'Imam Ahmad, Abu Dawud, al-Hakim',\n",
       "       'al-Hijr 57', 'Yusuf 87', 'al-Fath 12', 'at-Tawbah 33',\n",
       "       'al-Fath 28', 'Abu Hamzah al-Muhajir', 'Ab? \\x91Umar al-Baghd?d?',\n",
       "       'al-Imran 139', 'al-Anfal 36', 'al-Anfal 69', 'at-Tabaqat',\n",
       "       'Al-Baghawi', 'al-Baqarah 195', 'Imam Ahmad, Abu Dawud',\n",
       "       'Asad Ibn Musa', 'Imam Ahmad, Ibn Majah',\n",
       "       'Imam Ahmad, at-Tirmidhi', 'Ibn Majah', 'at-Tawbah 5',\n",
       "       \"al-Mu'minun 1-7\", \"Abu Dawud, an-Nasa'i\", 'al-Ahzab 62',\n",
       "       'al-Fath 23',\n",
       "       'Imam Ahmad, Abu Dawud, Ibn Majah, Ibn Hibban, al-Hakim',\n",
       "       'Imam Ahmad, Ibn Hibban', 'Imam Ahmad, al-Hakim',\n",
       "       'Abu Umar al-Baghdadi', 'ar-Rum 2-6', 'Henry Kissinger',\n",
       "       'Michael Scheuer', 'George W. Bush', 'Barack Obama', 'al-Hashr 14',\n",
       "       'al-Baqarah 120', 'al-Baqarah 217', 'Anwar al-Awlaki',\n",
       "       'Osama Bin Laden', 'Chuck Hagel', 'at-Tawbah 32-33',\n",
       "       'an-Nisa 155-157', 'Ya-Sin: 16-19', 'al-Baqarah 258',\n",
       "       \"al-A'raf 105\", 'Hud 54-55', 'Hud 65', 'al-Imran 146',\n",
       "       'al-Baqarah 251', \"al-An'am 112\", 'al-Imran 140', 'al-Baqarah 87',\n",
       "       \"al-Ma'ida 78\", 'Adwa al-Bayan', \"al-Bazzar, Abu Ya'la\",\n",
       "       'al-Baqarah 154', 'al-Hakim,', 'at-Tirmidhi, Ibn Majah',\n",
       "       'Ta-Ha 43-45', 'al-Baqarah 260', 'al-Baqarah 214',\n",
       "       \"at-Tirmidhi, an-Nasa'i\", 'al-Imran 103', 'al-Hajj 78',\n",
       "       'The Khalifa Ibrahim', \"al-Mu'minun 20\",\n",
       "       'RAND Corporation Experts', 'an-Nisa 91', 'al-Anfal 39',\n",
       "       \"ash-Shu'ara 18-20\", 'Man Haron Monis', 'al-Mumtahanah 1',\n",
       "       'al-Fath 10', 'Yunus 23', 'Fatir 43', 'Yusuf 53', 'Imam Malik',\n",
       "       'As-Sahib Ibn Abbad', 'Imam an-Nawawi', 'an-Nisa 83',\n",
       "       'Muhammad ibn Abd al-Wahhab', 'Abu Bakr as-Siddiq', 'al-Anfal 60',\n",
       "       'al-Imran 200', 'as-Saff 4', \"al-Ma'ida 23\", 'al-imran 160',\n",
       "       'At-Tabari', 'an-Naml 62', 'at-Tawbah 121', 'al-Anfal 16',\n",
       "       'al-Imran 161', 'Ibn Abbas', 'al-Anfal 45-46',\n",
       "       'Al-Fudayl Ibn \\x91Iy?d', 'Ibn Rajab al-Hanbali',\n",
       "       'The Mujahideen of Yemen', 'Adh-Dhawahiri', 'al-Anfal 45',\n",
       "       'al-Anfal 37', \"al-An'am 55\", 'Benjamin Netanyahu', 'an-Nahl 126',\n",
       "       'al-Baqarah 194', 'Ibn Kathir, \"Al Bidayah wan-Nihayah\"',\n",
       "       'Al-Bayhaqi', ' at-Tabarani, \"Al-Mujam al-Kabir\"', 'No source',\n",
       "       'al-Imran 159', 'Saad 26', 'al-Anfal 43', 'al-imran 159',\n",
       "       'Umar Ibn Abdul-Aziz', 'Ali Ibn Abi Talib', 'at-Tawbah 73',\n",
       "       'al-Hujurat 9', \"al-Ma'ida 54\", 'al-Hadid 25', 'Ibn Taymiyyah',\n",
       "       'al-Anfal 12', 'Muhammad 4', 'Ibn Abi Shaybah',\n",
       "       'ad-Diya, ad-Daylami', 'Khalifah Ibrahim al-Qurashi',\n",
       "       'al-Anfal 73', \"al-Ma'ida 51\", 'al-Fath 29', 'al-Anfal 46',\n",
       "       \"al-Ma'ida 105\", 'Muhammad al Adnani', 'Ibnul-Kattab', 'as-Saff 8',\n",
       "       'Yusuf 21', 'al-Baqarah 168-169', 'Ibn Majah, al-Hakim',\n",
       "       'an-Nasai, Ibn Majah', 'an-Nahl 111', 'al-Kahf 1',\n",
       "       'as-Saffat 180-182', 'Patrick Cockburn', 'The Washington Post',\n",
       "       'Eric Shawn of Fox News', 'Usamah Ibn Ladin', 'Ib Hisham',\n",
       "       'at-Tawbah 142-143', 'al-Ahzab 60-62',\n",
       "       'Ibn Taymiyyah, \"As-Sarim al-Maslul\"', 'Ibn Hisham', 'Abu Dawud',\n",
       "       'an-Nisa 140', 'Muhammad 25-28', 'at-Tawbah 107-110',\n",
       "       'an-Nisa 138-139', \"al-Ma'ida 51-52\", 'Muhammad 30', 'al-Anfal 49',\n",
       "       'al-Imran 118-119', 'an-Nisa 63', 'an-Nisa 105-108',\n",
       "       'Imam Ahmad, Abu Dawud, an-Nasai', 'al-Munafiqun 4',\n",
       "       'at-Tawbah 67', 'Saad 28', 'al-Qalam 35-36', 'al-Jathiyah 21',\n",
       "       'al-Imran 104', 'al-Fussilat 33', \"al-A'raf 7\", 'an-Nur 51',\n",
       "       'at-Tawbah 31', 'at-Tirdmidhi', 'as-Sajdah 16', 'at-Tawbah 41',\n",
       "       'an-Nisa 139', 'an-Nisa 75', 'at-Tawbah 38', 'David Cameron',\n",
       "       'an-Nisa 76', 'al-Hashr 22', 'The Khalifah', 'al-Qasas 4',\n",
       "       'an-Nur 55', 'Ibn Abi Shaybah, \"Musannaf Ibn Abi Shaybah\"',\n",
       "       'Ibn Battah, \"Al-Ibanah al-Kubra\"', 'Ibn Asakir, \"Tarikh Dimashq\"',\n",
       "       'al-Bayhaqi, \"Al-I\\'tiqad\"', 'Ibn Kathir, \"Musnad al-Faruq\"',\n",
       "       'ar-Rahman 60', 'al-Furqan 31', 'al-Hajj 41', 'at-Tawbah 120',\n",
       "       'al-Mumtahanah 4', 'al-Isra 17', 'ar-Rum 42', 'Muhammad 10',\n",
       "       'Yunus 92', 'Ibrahim 35-36', 'al-Kahf 26', 'at-Tawbah 36',\n",
       "       'at-Tabarani, al-Bayhaqi', 'Ibn Majah, an-Nasai',\n",
       "       'Imam Ahmad, an-Nasai', 'at-Tawbah 100', 'an-Nisa 97',\n",
       "       'Ibn Kathir', 'an-Nisa 98-99', 'Abu Dawud, at-Tirmidhi, Ibn Majah',\n",
       "       'at-Tarhim 11', 'al-Mumtahinah 10', 'Ibn Qudamah', 'Muslim',\n",
       "       'Abdullah Ibn Ahmad Ibn Hanbal, \"As-Sunnah\"', 'Al-Lalikai',\n",
       "       'Ash-Shariah - Al-Ajurri', 'As-Sunnah \\x96 Al-Khall?l',\n",
       "       'Ibn Kathir, \"al-Bidayah wan-Nihayah\"',\n",
       "       \"Masa'il al-Imama Ahmad was Ishaq Ibn Rahawyh\", 'at-Tawbah 11',\n",
       "       'al-Imran 32', \"Ta'dhim Qadr As-Salah\",\n",
       "       'Abdullah Ibn Muhammad Ibn Abd al-Wahhab, \"Al-Kalimat an-Nafiah\" ',\n",
       "       'Imam Shafi, \"al-Risala\"', \"al-A'raf 30\", 'al-Kahf 103-105',\n",
       "       'al-Bayyinah 1-3', 'al-Baqarah 8-13', 'al-Hujurat 2',\n",
       "       'as-Sajdah 22', 'al-Firyabi, \"Sifat an-Nifaq\"',\n",
       "       'al-Khallal, \"As-Sunnah\"', 'an-Nasai', 'at-Tawbah 65-66',\n",
       "       'at-Tawbah 74', 'an-Nur 11', 'Rick Santorum', 'Gary Berntsen',\n",
       "       'Richard Black', 'Colonel Bill Cowan', 'Tafsir Ibn al-Mundhir',\n",
       "       'Imam Malik, \"Muwatta\"', 'Gharib al-Quran', 'At-Tirmidhi',\n",
       "       'At-Tirmidhi, an-Nasai',\n",
       "       'Abd ar-Razzaq as-San\\x91ani, \"Musannaf Abdir-Razzaq\"',\n",
       "       'at-Tabarani', 'Al-Mughni',\n",
       "       'Tafsir Ibn Abi Hatim, Tafsir al-Quttubi', 'an-Nahl 40',\n",
       "       'al-Baqarah 117', \"an-An'am 73\", 'Yasin 82', \"al-An'am 59\",\n",
       "       \"al-Ar'raf 188\", 'al-Naml 65', 'Saba 3', 'at-Tur 41-42',\n",
       "       \"al-An'am 50\", 'al-Isra 100', 'at-Tur 37', 'al-Baqarah 113',\n",
       "       'al-Hashr 11-12', \"al-Mai'da 14\", 'al-Maida 64', 'al-Imran 19',\n",
       "       'ash-Shura 14', 'al-Imran 55', 'al-Imran 112', 'al-Maida 51',\n",
       "       'al-Kahf 22', 'an-Najm 28', 'al-Baqarah 213',\n",
       "       'Abu Dawud, Abud-Darda', \"Imam Ahmad, Abu Dawud, an-Nasa'i\",\n",
       "       'an-Nisa 3', 'an-Nur 32', \"al-Mu'minun 5-6\", 'al-Baqarah 221',\n",
       "       \"At-Tabaqat al-Kubra - Ibn Sa'd\", 'al-Hijr 94', 'al-Baqarah 165',\n",
       "       'al-Nisa 138-139', 'Yunus 65', 'Fatir 10', \"ar-Ra'ad 42\",\n",
       "       'al-Imran 154', 'Hud 123', 'Ibrahim 46', 'al-Hijr 39:42',\n",
       "       'al-Imran 54', \"al-A'raf 99\", 'Yunus 21', \"al-A'raf 183\",\n",
       "       'at-Tur 42', \"ar-Ra'd 33\", 'Yusuf 52', 'Ghafir 25',\n",
       "       'an-Naml 50-53', \"al-An'am 123\", \"al-An'am 124\", 'an-Nahl 26',\n",
       "       'an-Nahl 45', 'al-Imran 120', 'an-Nahl 127', \"al-A'raf 195-197\",\n",
       "       'Hud 54-56', 'The Khalifa', 'Barak Mendelsohn',\n",
       "       'Wall Street Jouranl', 'Small Wars Journal', 'Carnegie Endowment',\n",
       "       'Middle East Eye', 'War on the Rocks', 'RAND Corporation',\n",
       "       'Jonah Blank, RAND Corporation', 'Gary Bernsten',\n",
       "       'Washington Post', 'Mulsim', 'Muhammad al-Adnani', 'Yusuf 40',\n",
       "       'Shaykhul-Islam', 'an-Nisa 36', \"al-An'am 151\", 'al-Isra 23-24',\n",
       "       \"al-'Ankabut 8\", 'Luqman 13-15', 'Imam Ahamd', 'at-Tawbah 24',\n",
       "       'Taha 43-44', 'Abu Dawud, \"Masa\\'il Abu Dawud\"',\n",
       "       'Imam al-Mawardi, \"Al-Ahkam as-Sultaniyyah\"', 'al-Baqarah 246-247',\n",
       "       'al-Anfal 41', 'al-Imran 123', 'Ibn al-Qayyim', 'al-Isra 81',\n",
       "       'Ibn al-Mubarak, al-Lalikai', 'al-Khallal', \"al-A'raf 164\",\n",
       "       \"al-Mai'da 51\", 'al-Ahzab 36', 'al-Mumtahanah 10', 'Maryam 95',\n",
       "       'at-Tawbah 13', \"al-An'am 132\", 'Ibrahim 42', 'al-Baqarah 166',\n",
       "       'Speaker of the Islamic State', 'al-Baqarah 193',\n",
       "       'Tays?r al-\\x91Az?z al-Ham?d',\n",
       "       'Syrian Observatory for Human Rights', 'New York Times',\n",
       "       'Ahmed Rashid', 'Yaroslav Trofimov', 'ad-Darmimi, al-Hakim',\n",
       "       'Al-Ihya', 'Al-Insaf',\n",
       "       'Muhammad ibn Abdul Wahhab, \"Al-Kalim?t an-N?fi\\x92ah\"',\n",
       "       \"Al-Manthur fil-Qaqa'id\", 'Al-Muhalla', 'Al-Qalqashandi',\n",
       "       \"Ar-Rasa'il ash-Shakhsiyyah\", \"Asha'ir al-Iraq\",\n",
       "       'Giyath al-Umam, - al-Juwayni',\n",
       "       'Abu Nu\\'aym al-Isfahani, \"Hilyat al-Awliya\"', 'Ibn al-Athir',\n",
       "       'Il-Iman', \"Masa'il al-Imam Ahmad was Ishaw Ibn Rahawayh\",\n",
       "       \"Masa'il Harb\", 'al-Barbahari, \"Sharh as-Sunnah\"',\n",
       "       'Sharh Sah?h Muslim', 'Sunan Sa-id Ibn Mansur',\n",
       "       'Taysir al-Aziz al-Hamid'], dtype=object)"
      ]
     },
     "execution_count": 60,
     "metadata": {},
     "output_type": "execute_result"
    }
   ],
   "source": [
    "pd.unique(df1.Source)"
   ]
  },
  {
   "cell_type": "code",
   "execution_count": 61,
   "metadata": {},
   "outputs": [
    {
     "data": {
      "image/png": "[encoded data removed]",
      "text/plain": [
       "<Figure size 432x288 with 1 Axes>"
      ]
     },
     "metadata": {
      "needs_background": "light"
     },
     "output_type": "display_data"
    }
   ],
   "source": [
    "#Plot the counts of Dabique and Rumiyah \n",
    "sns.countplot(data = df, x= df['Magazine']).set_title(\"Amount of dabiq and Rumiyah messages\")\n",
    "plt.show()"
   ]
  },
  {
   "cell_type": "code",
   "execution_count": 62,
   "metadata": {},
   "outputs": [
    {
     "data": {
      "text/plain": [
       "<matplotlib.axes._subplots.AxesSubplot at 0x210ebe103c8>"
      ]
     },
     "execution_count": 62,
     "metadata": {},
     "output_type": "execute_result"
    },
    {
     "data": {
      "image/png": "[encoded data removed]",
      "text/plain": [
       "<Figure size 432x288 with 1 Axes>"
      ]
     },
     "metadata": {
      "needs_background": "light"
     },
     "output_type": "display_data"
    }
   ],
   "source": [
    "df.groupby(['Magazine'])['Quote'].count().plot.bar()"
   ]
  },
  {
   "cell_type": "code",
   "execution_count": 63,
   "metadata": {},
   "outputs": [
    {
     "data": {
      "text/plain": [
       "15"
      ]
     },
     "execution_count": 63,
     "metadata": {},
     "output_type": "execute_result"
    }
   ],
   "source": [
    "len(pd.unique(df1.Type))"
   ]
  },
  {
   "cell_type": "markdown",
   "metadata": {},
   "source": [
    "so lets seperate the columns we would love to focus on for our futher analysis\n",
    "\n",
    "I.E : for our text classification....."
   ]
  },
  {
   "cell_type": "code",
   "execution_count": 64,
   "metadata": {},
   "outputs": [
    {
     "data": {
      "text/html": [
       "<div>\n",
       "<style scoped>\n",
       "    .dataframe tbody tr th:only-of-type {\n",
       "        vertical-align: middle;\n",
       "    }\n",
       "\n",
       "    .dataframe tbody tr th {\n",
       "        vertical-align: top;\n",
       "    }\n",
       "\n",
       "    .dataframe thead th {\n",
       "        text-align: right;\n",
       "    }\n",
       "</style>\n",
       "<table border=\"1\" class=\"dataframe\">\n",
       "  <thead>\n",
       "    <tr style=\"text-align: right;\">\n",
       "      <th></th>\n",
       "      <th>Quote</th>\n",
       "      <th>Magazine</th>\n",
       "    </tr>\n",
       "  </thead>\n",
       "  <tbody>\n",
       "    <tr>\n",
       "      <th>0</th>\n",
       "      <td>The spark has been lit here in Iraq, and its h...</td>\n",
       "      <td>Dabiq</td>\n",
       "    </tr>\n",
       "    <tr>\n",
       "      <th>1</th>\n",
       "      <td>The Hour will not be established until the Ro...</td>\n",
       "      <td>Dabiq</td>\n",
       "    </tr>\n",
       "    <tr>\n",
       "      <th>2</th>\n",
       "      <td>The spark has been lit here in Iraq, and its ...</td>\n",
       "      <td>Dabiq</td>\n",
       "    </tr>\n",
       "    <tr>\n",
       "      <th>3</th>\n",
       "      <td>O Muslims everywhere, glad tidings to you and...</td>\n",
       "      <td>Dabiq</td>\n",
       "    </tr>\n",
       "    <tr>\n",
       "      <th>4</th>\n",
       "      <td>O Ummah of Islam, indeed the world today has ...</td>\n",
       "      <td>Dabiq</td>\n",
       "    </tr>\n",
       "  </tbody>\n",
       "</table>\n",
       "</div>"
      ],
      "text/plain": [
       "                                               Quote Magazine\n",
       "0  The spark has been lit here in Iraq, and its h...    Dabiq\n",
       "1  The Hour will not be established until the Ro...    Dabiq\n",
       "2  The spark has been lit here in Iraq, and its ...    Dabiq\n",
       "3  O Muslims everywhere, glad tidings to you and...    Dabiq\n",
       "4  O Ummah of Islam, indeed the world today has ...    Dabiq"
      ]
     },
     "execution_count": 64,
     "metadata": {},
     "output_type": "execute_result"
    }
   ],
   "source": [
    "used_col =['Quote','Magazine']\n",
    "\n",
    "df1 = df[used_col]\n",
    "\n",
    "df1.head()"
   ]
  },
  {
   "cell_type": "code",
   "execution_count": 65,
   "metadata": {},
   "outputs": [
    {
     "data": {
      "text/html": [
       "<div>\n",
       "<style scoped>\n",
       "    .dataframe tbody tr th:only-of-type {\n",
       "        vertical-align: middle;\n",
       "    }\n",
       "\n",
       "    .dataframe tbody tr th {\n",
       "        vertical-align: top;\n",
       "    }\n",
       "\n",
       "    .dataframe thead th {\n",
       "        text-align: right;\n",
       "    }\n",
       "</style>\n",
       "<table border=\"1\" class=\"dataframe\">\n",
       "  <thead>\n",
       "    <tr style=\"text-align: right;\">\n",
       "      <th></th>\n",
       "      <th>0</th>\n",
       "      <th>1</th>\n",
       "    </tr>\n",
       "  </thead>\n",
       "  <tbody>\n",
       "    <tr>\n",
       "      <th>0</th>\n",
       "      <td>The spark has been lit here in Iraq, and its h...</td>\n",
       "      <td>Dabiq</td>\n",
       "    </tr>\n",
       "    <tr>\n",
       "      <th>1</th>\n",
       "      <td>The Hour will not be established until the Ro...</td>\n",
       "      <td>Dabiq</td>\n",
       "    </tr>\n",
       "    <tr>\n",
       "      <th>2</th>\n",
       "      <td>The spark has been lit here in Iraq, and its ...</td>\n",
       "      <td>Dabiq</td>\n",
       "    </tr>\n",
       "    <tr>\n",
       "      <th>3</th>\n",
       "      <td>O Muslims everywhere, glad tidings to you and...</td>\n",
       "      <td>Dabiq</td>\n",
       "    </tr>\n",
       "    <tr>\n",
       "      <th>4</th>\n",
       "      <td>O Ummah of Islam, indeed the world today has ...</td>\n",
       "      <td>Dabiq</td>\n",
       "    </tr>\n",
       "  </tbody>\n",
       "</table>\n",
       "</div>"
      ],
      "text/plain": [
       "                                                   0      1\n",
       "0  The spark has been lit here in Iraq, and its h...  Dabiq\n",
       "1  The Hour will not be established until the Ro...  Dabiq\n",
       "2  The spark has been lit here in Iraq, and its ...  Dabiq\n",
       "3  O Muslims everywhere, glad tidings to you and...  Dabiq\n",
       "4  O Ummah of Islam, indeed the world today has ...  Dabiq"
      ]
     },
     "execution_count": 65,
     "metadata": {},
     "output_type": "execute_result"
    }
   ],
   "source": [
    "old_colms =list(df1.columns.values)\n",
    "new_colms = [0,1]\n",
    "colms_dict = dict(zip(old_colms,new_colms))\n",
    "df11 = df1.rename(columns = colms_dict)\n",
    "df11.head()"
   ]
  },
  {
   "cell_type": "code",
   "execution_count": 74,
   "metadata": {},
   "outputs": [
    {
     "data": {
      "text/plain": [
       "0     Dabiq\n",
       "1     Dabiq\n",
       "2     Dabiq\n",
       "3     Dabiq\n",
       "4     Dabiq\n",
       "5     Dabiq\n",
       "6     Dabiq\n",
       "7     Dabiq\n",
       "8     Dabiq\n",
       "9     Dabiq\n",
       "10    Dabiq\n",
       "11    Dabiq\n",
       "Name: 1, dtype: object"
      ]
     },
     "execution_count": 74,
     "metadata": {},
     "output_type": "execute_result"
    }
   ],
   "source": [
    "df2 = df11[1]\n",
    "df2.head(12)"
   ]
  },
  {
   "cell_type": "code",
   "execution_count": 76,
   "metadata": {},
   "outputs": [
    {
     "data": {
      "text/plain": [
       "1"
      ]
     },
     "execution_count": 76,
     "metadata": {},
     "output_type": "execute_result"
    }
   ],
   "source": [
    "df2.isnull().sum()"
   ]
  },
  {
   "cell_type": "markdown",
   "metadata": {},
   "source": [
    "so we would need to drop the na values...\n",
    "\n",
    "so it doesnt affect our analysis as it goes on"
   ]
  },
  {
   "cell_type": "code",
   "execution_count": 78,
   "metadata": {},
   "outputs": [
    {
     "data": {
      "text/plain": [
       "0    Dabiq\n",
       "1    Dabiq\n",
       "2    Dabiq\n",
       "3    Dabiq\n",
       "4    Dabiq\n",
       "Name: 1, dtype: object"
      ]
     },
     "execution_count": 78,
     "metadata": {},
     "output_type": "execute_result"
    }
   ],
   "source": [
    " df22 = df2.dropna()\n",
    "df22.head()"
   ]
  },
  {
   "cell_type": "code",
   "execution_count": 79,
   "metadata": {},
   "outputs": [
    {
     "data": {
      "text/plain": [
       "0"
      ]
     },
     "execution_count": 79,
     "metadata": {},
     "output_type": "execute_result"
    }
   ],
   "source": [
    "df22.isnull().sum()"
   ]
  },
  {
   "cell_type": "markdown",
   "metadata": {},
   "source": [
    "so we already dealt with the na values,so we just wamted to check to confirm...\n",
    "\n",
    "yippeee,its been confirmed no na values...."
   ]
  },
  {
   "cell_type": "code",
   "execution_count": 82,
   "metadata": {},
   "outputs": [
    {
     "data": {
      "text/plain": [
       "Dabiq      1481\n",
       "Rumiyah    1203\n",
       "Name: 1, dtype: int64"
      ]
     },
     "execution_count": 82,
     "metadata": {},
     "output_type": "execute_result"
    }
   ],
   "source": [
    "df22.value_counts()"
   ]
  },
  {
   "cell_type": "code",
   "execution_count": 106,
   "metadata": {},
   "outputs": [
    {
     "data": {
      "text/plain": [
       "array(['Dabiq', 'Rumiyah'], dtype=object)"
      ]
     },
     "execution_count": 106,
     "metadata": {},
     "output_type": "execute_result"
    }
   ],
   "source": [
    "df22.unique()"
   ]
  },
  {
   "cell_type": "code",
   "execution_count": null,
   "metadata": {},
   "outputs": [],
   "source": []
  },
  {
   "cell_type": "code",
   "execution_count": null,
   "metadata": {},
   "outputs": [],
   "source": []
  },
  {
   "cell_type": "code",
   "execution_count": null,
   "metadata": {},
   "outputs": [],
   "source": []
  }
 ],
 "metadata": {
  "kernelspec": {
   "display_name": "Python 3",
   "language": "python",
   "name": "python3"
  },
  "language_info": {
   "codemirror_mode": {
    "name": "ipython",
    "version": 3
   },
   "file_extension": ".py",
   "mimetype": "text/x-python",
   "name": "python",
   "nbconvert_exporter": "python",
   "pygments_lexer": "ipython3",
   "version": "3.7.6"
  }
 },
 "nbformat": 4,
 "nbformat_minor": 4
}
